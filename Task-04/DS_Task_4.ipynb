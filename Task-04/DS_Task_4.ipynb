{
  "nbformat": 4,
  "nbformat_minor": 0,
  "metadata": {
    "colab": {
      "provenance": []
    },
    "kernelspec": {
      "name": "python3",
      "display_name": "Python 3"
    },
    "language_info": {
      "name": "python"
    }
  },
  "cells": [
    {
      "cell_type": "markdown",
      "source": [
        "#Prodigy Task 4"
      ],
      "metadata": {
        "id": "K630H1TwiKHS"
      }
    },
    {
      "cell_type": "markdown",
      "source": [
        "Step 1:Necessary sentiment analysis library."
      ],
      "metadata": {
        "id": "xdqrvIhuiPvm"
      }
    },
    {
      "cell_type": "code",
      "execution_count": 2,
      "metadata": {
        "colab": {
          "base_uri": "https://localhost:8080/"
        },
        "id": "O_trI86jiB3h",
        "outputId": "d3b816ce-26d7-48dc-fa2d-25be3bd9319e"
      },
      "outputs": [
        {
          "output_type": "stream",
          "name": "stdout",
          "text": [
            "Requirement already satisfied: vaderSentiment in /usr/local/lib/python3.12/dist-packages (3.3.2)\n",
            "Requirement already satisfied: requests in /usr/local/lib/python3.12/dist-packages (from vaderSentiment) (2.32.4)\n",
            "Requirement already satisfied: charset_normalizer<4,>=2 in /usr/local/lib/python3.12/dist-packages (from requests->vaderSentiment) (3.4.3)\n",
            "Requirement already satisfied: idna<4,>=2.5 in /usr/local/lib/python3.12/dist-packages (from requests->vaderSentiment) (3.10)\n",
            "Requirement already satisfied: urllib3<3,>=1.21.1 in /usr/local/lib/python3.12/dist-packages (from requests->vaderSentiment) (2.5.0)\n",
            "Requirement already satisfied: certifi>=2017.4.17 in /usr/local/lib/python3.12/dist-packages (from requests->vaderSentiment) (2025.8.3)\n"
          ]
        }
      ],
      "source": [
        "!pip install vaderSentiment"
      ]
    },
    {
      "cell_type": "markdown",
      "source": [
        "Step 2: Setup and Data Loading"
      ],
      "metadata": {
        "id": "q10_VSapjgXH"
      }
    },
    {
      "cell_type": "code",
      "source": [
        "import pandas as pd\n",
        "import matplotlib.pyplot as plt\n",
        "import seaborn as sns\n",
        "from vaderSentiment.vaderSentiment import SentimentIntensityAnalyzer\n",
        "\n",
        "# The dataset has no headers, so we will provide them.\n",
        "url = 'https://raw.githubusercontent.com/Prodigy-InfoTech/data-science-datasets/main/Task%204/twitter_training.csv'\n",
        "df = pd.read_csv(url, header=None)\n",
        "df.columns = ['ID', 'Topic', 'Sentiment_GroundTruth', 'Tweet_Text']\n",
        "\n",
        "print(\"Dataset loaded successfully.\")\n",
        "print(df.head())"
      ],
      "metadata": {
        "colab": {
          "base_uri": "https://localhost:8080/"
        },
        "id": "34sn77tijhUj",
        "outputId": "38fe9683-c7d3-4ad6-a19a-bc4ce469f121"
      },
      "execution_count": 3,
      "outputs": [
        {
          "output_type": "stream",
          "name": "stdout",
          "text": [
            "Dataset loaded successfully.\n",
            "     ID        Topic Sentiment_GroundTruth  \\\n",
            "0  2401  Borderlands              Positive   \n",
            "1  2401  Borderlands              Positive   \n",
            "2  2401  Borderlands              Positive   \n",
            "3  2401  Borderlands              Positive   \n",
            "4  2401  Borderlands              Positive   \n",
            "\n",
            "                                          Tweet_Text  \n",
            "0  im getting on borderlands and i will murder yo...  \n",
            "1  I am coming to the borders and I will kill you...  \n",
            "2  im getting on borderlands and i will kill you ...  \n",
            "3  im coming on borderlands and i will murder you...  \n",
            "4  im getting on borderlands 2 and i will murder ...  \n"
          ]
        }
      ]
    },
    {
      "cell_type": "markdown",
      "source": [
        "Step 3: Data Cleaning"
      ],
      "metadata": {
        "id": "mMBEhMryjsuM"
      }
    },
    {
      "cell_type": "code",
      "source": [
        "df.dropna(subset=['Tweet_Text'], inplace=True)\n",
        "print(\"Data cleaned. Shape after dropping nulls:\", df.shape)"
      ],
      "metadata": {
        "colab": {
          "base_uri": "https://localhost:8080/"
        },
        "id": "xr0Q7QS1jtgr",
        "outputId": "67d0afa0-f4fe-4b24-da9b-e7822363ae1c"
      },
      "execution_count": 4,
      "outputs": [
        {
          "output_type": "stream",
          "name": "stdout",
          "text": [
            "Data cleaned. Shape after dropping nulls: (73996, 4)\n"
          ]
        }
      ]
    },
    {
      "cell_type": "markdown",
      "source": [
        "Step 4: Sentiment Analysis"
      ],
      "metadata": {
        "id": "DjP4sLJMjySs"
      }
    },
    {
      "cell_type": "code",
      "source": [
        "analyzer = SentimentIntensityAnalyzer()\n",
        "\n",
        "def get_vader_sentiment(text):\n",
        "    # The 'compound' score is a single metric for the overall sentiment.\n",
        "    score = analyzer.polarity_scores(text)\n",
        "    compound_score = score['compound']\n",
        "    if compound_score >= 0.05:\n",
        "        return 'Positive'\n",
        "    elif compound_score <= -0.05:\n",
        "        return 'Negative'\n",
        "    else:\n",
        "        return 'Neutral'\n",
        "\n",
        "df['Sentiment'] = df['Tweet_Text'].apply(get_vader_sentiment)\n",
        "\n",
        "print(\"Sentiment analysis complete.\")\n",
        "print(df[['Tweet_Text', 'Sentiment']].head())"
      ],
      "metadata": {
        "colab": {
          "base_uri": "https://localhost:8080/"
        },
        "id": "ydO04Kc1jzNA",
        "outputId": "9bb68311-9349-4355-d857-04127f141122"
      },
      "execution_count": 5,
      "outputs": [
        {
          "output_type": "stream",
          "name": "stdout",
          "text": [
            "Sentiment analysis complete.\n",
            "                                          Tweet_Text Sentiment\n",
            "0  im getting on borderlands and i will murder yo...  Negative\n",
            "1  I am coming to the borders and I will kill you...  Negative\n",
            "2  im getting on borderlands and i will kill you ...  Negative\n",
            "3  im coming on borderlands and i will murder you...  Negative\n",
            "4  im getting on borderlands 2 and i will murder ...  Negative\n"
          ]
        }
      ]
    },
    {
      "cell_type": "markdown",
      "source": [
        "Step 5: Visualization"
      ],
      "metadata": {
        "id": "wxdVBrXmj6c9"
      }
    },
    {
      "cell_type": "code",
      "source": [
        "sentiment_counts = df['Sentiment'].value_counts()\n",
        "\n",
        "plt.figure(figsize=(8, 6))\n",
        "sns.barplot(x=sentiment_counts.index, y=sentiment_counts.values, palette='viridis')\n",
        "plt.title('Sentiment Distribution in Social Media Data', fontsize=16)\n",
        "plt.xlabel('Sentiment', fontsize=12)\n",
        "plt.ylabel('Number of Tweets', fontsize=12)\n",
        "\n",
        "plt.savefig('sentiment_distribution.png', dpi=300)\n",
        "print(\"Plot saved as 'sentiment_distribution.png'\")\n",
        "plt.show()\n",
        "\n",
        "print(\"\\nSentiment Counts:\")\n",
        "print(sentiment_counts)"
      ],
      "metadata": {
        "colab": {
          "base_uri": "https://localhost:8080/",
          "height": 796
        },
        "id": "tSaL3yquj7ON",
        "outputId": "d1816719-345a-4840-8c5f-d6515958ec26"
      },
      "execution_count": 6,
      "outputs": [
        {
          "output_type": "stream",
          "name": "stderr",
          "text": [
            "/tmp/ipython-input-1683936602.py:4: FutureWarning: \n",
            "\n",
            "Passing `palette` without assigning `hue` is deprecated and will be removed in v0.14.0. Assign the `x` variable to `hue` and set `legend=False` for the same effect.\n",
            "\n",
            "  sns.barplot(x=sentiment_counts.index, y=sentiment_counts.values, palette='viridis')\n"
          ]
        },
        {
          "output_type": "stream",
          "name": "stdout",
          "text": [
            "Plot saved as 'sentiment_distribution.png'\n"
          ]
        },
        {
          "output_type": "display_data",
          "data": {
            "text/plain": [
              "<Figure size 800x600 with 1 Axes>"
            ],
            "image/png": "[encoded data removed]"
          },
          "metadata": {}
        },
        {
          "output_type": "stream",
          "name": "stdout",
          "text": [
            "\n",
            "Sentiment Counts:\n",
            "Sentiment\n",
            "Positive    33784\n",
            "Negative    27323\n",
            "Neutral     12889\n",
            "Name: count, dtype: int64\n"
          ]
        }
      ]
    }
  ]
}